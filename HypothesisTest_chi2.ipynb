{
 "cells": [
  {
   "cell_type": "code",
   "execution_count": 1,
   "id": "ab678842-6dc7-452b-9d8e-9a6be59eea74",
   "metadata": {},
   "outputs": [],
   "source": [
    "# Import Required Packages\n",
    "import pandas as pd\n",
    "from scipy.stats import chi2_contingency, chi2"
   ]
  },
  {
   "cell_type": "code",
   "execution_count": 5,
   "id": "6483a357-0d99-4ec4-81af-e67afbc10434",
   "metadata": {},
   "outputs": [],
   "source": [
    "# Import Data\n",
    "\n",
    "campaign_data = pd.read_excel(r\"C:\\Users\\agran\\OneDrive\\Desktop\\DataScienceInfinity\\Python-Data Science\\ABTesting\\grocery_database.xlsx\", sheet_name=\"campaign_data\")"
   ]
  },
  {
   "cell_type": "code",
   "execution_count": 7,
   "id": "be7ced5b-e8d1-4585-81e1-0bfb6ab93aa9",
   "metadata": {},
   "outputs": [],
   "source": [
    "# Filter our data\n",
    "\n",
    "campaign_data = campaign_data.loc[campaign_data[\"mailer_type\"]!=\"Control\"]"
   ]
  },
  {
   "cell_type": "code",
   "execution_count": 9,
   "id": "91d2538a-cf9a-44d2-aabe-238ac9961bb8",
   "metadata": {},
   "outputs": [
    {
     "name": "stdout",
     "output_type": "stream",
     "text": [
      "0.328 0.37797619047619047\n"
     ]
    }
   ],
   "source": [
    "# Summarise to get our observed frequencies\n",
    "\n",
    "observed_values = pd.crosstab(campaign_data[\"mailer_type\"], campaign_data[\"signup_flag\"]).values\n",
    "\n",
    "mailer1_signup_rate = 123 / (252 + 123)\n",
    "mailer2_signup_rate = 127 / (209 + 127)\n",
    "print(mailer1_signup_rate, mailer2_signup_rate)"
   ]
  },
  {
   "cell_type": "code",
   "execution_count": 11,
   "id": "d6dc82e5-c06e-496e-b668-492e2eac715a",
   "metadata": {},
   "outputs": [],
   "source": [
    "# State hypothesis and set acceptance criteria\n",
    "\n",
    "null_hypothesis = \"There is no relationship between mailer type and signup rate. They are independent\"\n",
    "alternate_hypothesis = \"There is a relationship between mailer type and signup rate. They are not independent\"\n",
    "acceptance_criteria = 0.05\n"
   ]
  },
  {
   "cell_type": "code",
   "execution_count": 13,
   "id": "19463710-2fb3-4771-811e-fd0a7a5a2b3e",
   "metadata": {},
   "outputs": [
    {
     "name": "stdout",
     "output_type": "stream",
     "text": [
      "1.9414468614812481 0.16351152223398197\n"
     ]
    }
   ],
   "source": [
    "# Calculate Expected Frequencies and Chi Square Statistic\n",
    "\n",
    "chi2_statistic, p_value, dof, expected_values = chi2_contingency(observed_values, correction = False)\n",
    "print(chi2_statistic, p_value)"
   ]
  },
  {
   "cell_type": "code",
   "execution_count": 15,
   "id": "045572de-4501-41ad-80bc-8975fd3e00a1",
   "metadata": {},
   "outputs": [
    {
     "name": "stdout",
     "output_type": "stream",
     "text": [
      "3.841458820694124\n"
     ]
    }
   ],
   "source": [
    "# Find the critical value for our test\n",
    "\n",
    "critical_value = chi2.ppf(1 - acceptance_criteria, dof)\n",
    "print(critical_value)"
   ]
  },
  {
   "cell_type": "code",
   "execution_count": 17,
   "id": "d4aa336e-39db-43eb-bec4-829e3dafbb55",
   "metadata": {},
   "outputs": [
    {
     "name": "stdout",
     "output_type": "stream",
     "text": [
      "As our chi-square statistic of 1.9414468614812481 is lower than our critical value of 3.841458820694124 - we retain the null hypothesis, and conclude that: There is no relationship between mailer type and signup rate. They are independent\n"
     ]
    }
   ],
   "source": [
    "# Print the results (Chi Square Statistic)\n",
    "\n",
    "if chi2_statistic >= critical_value:\n",
    "    print(f\"As our chi-square statistic of {chi2_statistic} is higher than our critical value of {critical_value} - we reject the null hypothesis, and conclude that: {alternate_hypothesis}\")\n",
    "else:\n",
    "    print(f\"As our chi-square statistic of {chi2_statistic} is lower than our critical value of {critical_value} - we retain the null hypothesis, and conclude that: {null_hypothesis}\")\n",
    "    "
   ]
  },
  {
   "cell_type": "code",
   "execution_count": 19,
   "id": "8c8f7089-2680-41dc-a88f-e994407bec48",
   "metadata": {},
   "outputs": [
    {
     "name": "stdout",
     "output_type": "stream",
     "text": [
      "As our p-value of 0.16351152223398197 is lower than our acceptance_criteria of 0.05 - we retain the null hypothesis, and conclude that: There is no relationship between mailer type and signup rate. They are independent\n"
     ]
    }
   ],
   "source": [
    "# Print the results (p-value)\n",
    "\n",
    "if p_value <= acceptance_criteria:\n",
    "    print(f\"As our p-value of {p_value} is higher than our acceptance_criteria of {acceptance_criteria} - we reject the null hypothesis, and conclude that: {alternate_hypothesis}\")\n",
    "else:\n",
    "    print(f\"As our p-value of {p_value} is lower than our acceptance_criteria of {acceptance_criteria} - we retain the null hypothesis, and conclude that: {null_hypothesis}\")"
   ]
  }
 ],
 "metadata": {
  "kernelspec": {
   "display_name": "Python 3 (ipykernel)",
   "language": "python",
   "name": "python3"
  },
  "language_info": {
   "codemirror_mode": {
    "name": "ipython",
    "version": 3
   },
   "file_extension": ".py",
   "mimetype": "text/x-python",
   "name": "python",
   "nbconvert_exporter": "python",
   "pygments_lexer": "ipython3",
   "version": "3.11.7"
  }
 },
 "nbformat": 4,
 "nbformat_minor": 5
}
